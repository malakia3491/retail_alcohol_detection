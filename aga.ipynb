{
 "cells": [
  {
   "cell_type": "code",
   "execution_count": 12,
   "id": "bf0cedad",
   "metadata": {},
   "outputs": [
    {
     "data": {
      "text/plain": [
       "'$2b$12$Cf9h2KQwkQTHAfrMn5PPuuXxDr2O5OOrxiqk13gpBoyznlA6YV8oW'"
      ]
     },
     "execution_count": 12,
     "metadata": {},
     "output_type": "execute_result"
    }
   ],
   "source": [
    "from passlib.context import CryptContext\n",
    "pwd_context = CryptContext(schemes=[\"bcrypt\"], deprecated=\"auto\", bcrypt__rounds=12)\n",
    "\n",
    "raw_password = \"password\"\n",
    "hashed_password = pwd_context.hash(raw_password)\n",
    "hashed_password"
   ]
  },
  {
   "cell_type": "code",
   "execution_count": 11,
   "id": "f5e128f3",
   "metadata": {},
   "outputs": [
    {
     "data": {
      "text/plain": [
       "True"
      ]
     },
     "execution_count": 11,
     "metadata": {},
     "output_type": "execute_result"
    }
   ],
   "source": [
    "pwd_context.verify(raw_password, hashed_password)"
   ]
  }
 ],
 "metadata": {
  "kernelspec": {
   "display_name": "311torch.venv (3.11.9)",
   "language": "python",
   "name": "python3"
  },
  "language_info": {
   "codemirror_mode": {
    "name": "ipython",
    "version": 3
   },
   "file_extension": ".py",
   "mimetype": "text/x-python",
   "name": "python",
   "nbconvert_exporter": "python",
   "pygments_lexer": "ipython3",
   "version": "3.11.9"
  }
 },
 "nbformat": 4,
 "nbformat_minor": 5
}
